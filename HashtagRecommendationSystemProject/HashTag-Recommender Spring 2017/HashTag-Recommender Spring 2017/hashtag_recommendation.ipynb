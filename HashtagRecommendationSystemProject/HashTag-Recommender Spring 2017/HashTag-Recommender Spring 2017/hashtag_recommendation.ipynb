{
 "cells": [
  {
   "cell_type": "code",
   "execution_count": 1,
   "metadata": {
    "collapsed": false
   },
   "outputs": [
    {
     "name": "stdout",
     "output_type": "stream",
     "text": [
      "424\n",
      "424\n",
      "11169\n",
      "894662\n",
      "22\n"
     ]
    }
   ],
   "source": [
    "import breeze.linalg.{DenseMatrix => BDM, DenseVector => BDV}\n",
    "import org.apache.spark.mllib.classification.{NaiveBayes, NaiveBayesModel}\n",
    "import org.apache.spark.mllib.linalg.Vectors\n",
    "import org.apache.spark.mllib.regression.LabeledPoint\n",
    "val RECOMMEND_LIMIT = 10\n",
    "val HASHTAGS = sc.textFile(\"tags.txt\").toArray\n",
    "val RETWEET_PERCENTAGES = sc.textFile(\"retweet_percentages.txt\").toArray\n",
    "val TRAINING_MATRIX = sc.textFile(\"mat.txt\")\n",
    "val VOCABULARY = sc.textFile(\"vocab.txt\").toArray\n",
    "println(HASHTAGS.length)\n",
    "println(RETWEET_PERCENTAGES.length)\n",
    "println(VOCABULARY.length)\n",
    "val temp = TRAINING_MATRIX.collect().toArray\n",
    "println(temp.length)\n",
    "println(temp(0).length)"
   ]
  },
  {
   "cell_type": "code",
   "execution_count": 2,
   "metadata": {
    "collapsed": false
   },
   "outputs": [
    {
     "name": "stdout",
     "output_type": "stream",
     "text": [
      "0.42924774472526656\n"
     ]
    }
   ],
   "source": [
    "val parsedData = TRAINING_MATRIX.filter(line => line.split(',').length >=2).map({line =>\n",
    "  val parts = line.split(',')\n",
    "  val indices = parts(1).split(' ').map(_.toInt)\n",
    "  val values = Array.fill[Double](indices.length)(1)\n",
    "  LabeledPoint(parts(0).toDouble, Vectors.sparse(VOCABULARY.length, indices.sorted, values))\n",
    "})\n",
    "val splits = parsedData.randomSplit(Array(0.7, 0.3), seed = 11L)\n",
    "val training = splits(0)\n",
    "val test = splits(1)\n",
    "val model = NaiveBayes.train(training, lambda = 1.0)\n",
    "val predictionAndLabel = test.map(p => (model.predict(p.features), p.label))\n",
    "val accuracy = 1.0 * predictionAndLabel.filter(x => x._1 == x._2).count() / test.count()\n",
    "println(accuracy)"
   ]
  },
  {
   "cell_type": "code",
   "execution_count": 3,
   "metadata": {
    "collapsed": true
   },
   "outputs": [],
   "source": [
    "val DEMO_TWEET = \"Zero-Day Vulnerabilities Matter, but Don?t Ignore Known Issues\""
   ]
  },
  {
   "cell_type": "code",
   "execution_count": 4,
   "metadata": {
    "collapsed": false
   },
   "outputs": [
    {
     "name": "stdout",
     "output_type": "stream",
     "text": [
      "Etsy\n",
      "gift\n",
      "PS4\n",
      "edchat\n",
      "reality\n",
      "education\n",
      "foodrecipes\n",
      "Samsung\n",
      "game\n",
      "career\n"
     ]
    }
   ],
   "source": [
    "val tokens = DEMO_TWEET.split(' ').flatMap({ t => (\"[a-zA-Z]+\".r.findAllIn(t)).map(_.toLowerCase)})\n",
    "val demo_array = Array.fill[Double](VOCABULARY.length)(0)\n",
    "VOCABULARY.view.zipWithIndex.filter(item => tokens.contains(item._1)).foreach(item => demo_array(item._2) = 1)\n",
    "val bdv = new BDV(demo_array)\n",
    "val brzPi = new BDV[Double](model.pi)\n",
    "val brzTheta = new BDM[Double](model.theta.length, model.theta(0).length)\n",
    "  {\n",
    "    // Need to put an extra pair of braces to prevent Scala treating `i` as a member.\n",
    "    var i = 0\n",
    "    while (i < model.theta.length) {\n",
    "      var j = 0\n",
    "      while (j < model.theta(i).length) {\n",
    "        brzTheta(i, j) = model. theta(i)(j)\n",
    "        j += 1\n",
    "      }\n",
    "      i += 1\n",
    "    }\n",
    "  }\n",
    "val ratings = brzPi + brzTheta * bdv\n",
    "val top_hashtag_indices = ratings.toArray.view.zipWithIndex.toSeq.sortBy(_._1).reverse.slice(0,RECOMMEND_LIMIT).map(_._2)\n",
    "val relevant_hashtags = HASHTAGS.view.zipWithIndex.filter(item => top_hashtag_indices.contains(item._2)).map(_._1)\n",
    "relevant_hashtags.foreach(println)"
   ]
  },
  {
   "cell_type": "code",
   "execution_count": 5,
   "metadata": {
    "collapsed": false
   },
   "outputs": [
    {
     "name": "stdout",
     "output_type": "stream",
     "text": [
      "edchat 0.764545\n",
      "education 0.484545\n",
      "reality 0.484545\n",
      "Etsy 0.461364\n",
      "PS4 0.360909\n",
      "gift 0.293636\n",
      "game 0.251364\n",
      "Samsung 0.240455\n",
      "career 0.094545\n",
      "foodrecipes 0.044091\n"
     ]
    }
   ],
   "source": [
    "val relevant_retweet_percentages = RETWEET_PERCENTAGES.view.zipWithIndex.filter(item => top_hashtag_indices.contains(item._2))\n",
    "val top_hashtag_indices = relevant_retweet_percentages.toSeq.sortBy(_._1).reverse.map(_._2)\n",
    "for (i <- top_hashtag_indices) println(HASHTAGS(i) + \" \" + RETWEET_PERCENTAGES(i))"
   ]
  },
  {
   "cell_type": "code",
   "execution_count": null,
   "metadata": {
    "collapsed": true
   },
   "outputs": [],
   "source": []
  }
 ],
 "metadata": {
  "kernelspec": {
   "display_name": "Spark 1.3.1 (Scala 2.10.4)",
   "language": "scala",
   "name": "spark"
  },
  "language_info": {
   "name": "scala"
  }
 },
 "nbformat": 4,
 "nbformat_minor": 0
}
